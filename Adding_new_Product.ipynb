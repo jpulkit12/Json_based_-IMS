{
  "nbformat": 4,
  "nbformat_minor": 0,
  "metadata": {
    "colab": {
      "name": "Adding new Product.ipynb",
      "provenance": []
    },
    "kernelspec": {
      "name": "python3",
      "display_name": "Python 3"
    },
    "language_info": {
      "name": "python"
    }
  },
  "cells": [
    {
      "cell_type": "markdown",
      "metadata": {
        "id": "KHpCa9KIzJfx"
      },
      "source": [
        "**Creating an Inventory**"
      ]
    },
    {
      "cell_type": "code",
      "metadata": {
        "id": "sF6NElnJwmmF"
      },
      "source": [
        " records = {101:{\"Product\":\"Drink\",  \"Quantity\":20, \"Price\":45, \"mf_day\":\"10-aug-2021\", \"ex_date\":\"12-sep-2021\"},\n",
        "            102:{\"Product\":\"Cake\",   \"Quantity\":30, \"Price\":30, \"mf_day\":\"11-aug-2021\", \"ex_date\":\"13-sep-2021\"},\n",
        "\t\t        103:{\"Product\":\"Pen\",    \"Quantity\":100,\"Price\":10, \"mf_day\":\"12-aug-2021\", \"ex_date\":\"14-sep-2021\"},\n",
        "\t\t        104:{\"Product\":\"Salt\",   \"Quantity\":50, \"Price\":15, \"mf_day\":\"13-aug-2021\", \"ex_date\":\"15-sep-2021\"},\n",
        "\t\t        105:{\"Product\":\"Sugar\",  \"Quantity\":10, \"Price\":40, \"mf_day\":\"14-aug-2021\", \"ex_date\":\"16-sep-2021\"},\n",
        "\t\t        106:{\"Product\":\"Biscuit\",\"Quantity\":20, \"Price\":30, \"mf_day\":\"15-aug-2021\", \"ex_date\":\"17-sep-2021\"},\n",
        "\t\t        107:{\"Product\":\"Cashew\", \"Quantity\":10, \"Price\":100,\"mf_day\":\"16-aug-2021\", \"ex_date\":\"18-sep-2021\"},\n",
        "\t\t        108:{\"Product\":\"Almonds\",\"Quantity\":20, \"Price\":60, \"mf_day\":\"17-aug-2021\", \"ex_date\":\"19-sep-2021\"},\n",
        "\t\t        109:{\"Product\":\"Walnut\", \"Quantity\":10, \"Price\":500,\"mf_day\":\"18-aug-2021\", \"ex_date\":\"12-oct-2021\"},\n",
        "\t\t        110:{\"Product\":\"Raisins\",\"Quantity\":20, \"Price\":45, \"mf_day\":\"19-aug-2021\", \"ex_date\":\"13-oct-2021\"},\n",
        "\t\t        111:{\"Product\":\"Rice\",   \"Quantity\":10, \"Price\":100,\"mf_day\":\"20-aug-2021\", \"ex_date\":\"14-oct-2021\"},\n",
        "            112:{\"Product\":\"Oil\",    \"Quantity\":10, \"Price\":200,\"mf_day\":\"01-aug-2021\", \"ex_date\":\"15-oct-2021\"},\n",
        "\t\t        113:{\"Product\":\"Dahi\",   \"Quantity\":20, \"Price\":25, \"mf_day\":\"02-aug-2021\", \"ex_date\":\"16-oct-2021\"},\n",
        "\t\t        114:{\"Product\":\"Milk\",   \"Quantity\":20, \"Price\":45, \"mf_day\":\"03-aug-2021\", \"ex_date\":\"17-oct-2021\"},\n",
        "\t\t        115:{\"Product\":\"Butter\", \"Quantity\":20, \"Price\":45, \"mf_day\":\"04-aug-2021\", \"ex_date\":\"18-oct-2021\"},\n",
        "\t\t        116:{\"Product\":\"Bread\",  \"Quantity\":30, \"Price\":20, \"mf_day\":\"05-aug-2021\", \"ex_date\":\"19-oct-2021\"},\n",
        "\t\t        117:{\"Product\":\"Cheese\", \"Quantity\":20, \"Price\":25, \"mf_day\":\"06-aug-2021\", \"ex_date\":\"02-oct-2021\"},\n",
        "\t\t        118:{\"Product\":\"Soup\",   \"Quantity\":20, \"Price\":45, \"mf_day\":\"07-aug-2021\", \"ex_date\":\"10-oct-2021\"},\n",
        "\t\t        119:{\"Product\":\"Mango\",  \"Quantity\":20, \"Price\":20, \"mf_day\":\"08-aug-2021\", \"ex_date\":\"11-oct-2021\"},\n",
        "\t\t        120:{\"Product\":\"Atta\",   \"Quantity\":10, \"Price\":300,\"mf_day\":\"09-aug-2021\", \"ex_date\":\"20-oct-2021\"}}\n",
        "\t\t\t  "
      ],
      "execution_count": null,
      "outputs": []
    },
    {
      "cell_type": "code",
      "metadata": {
        "colab": {
          "base_uri": "https://localhost:8080/",
          "height": 154
        },
        "id": "_Pua7Zahwomx",
        "outputId": "9676d4df-9d44-4a49-e57d-22f70c6f1366"
      },
      "source": [
        "import json\n",
        "js = json.dumps(records)\n",
        "js"
      ],
      "execution_count": null,
      "outputs": [
        {
          "output_type": "execute_result",
          "data": {
            "application/vnd.google.colaboratory.intrinsic+json": {
              "type": "string"
            },
            "text/plain": [
              "'{\"101\": {\"Product\": \"Drink\", \"Quantity\": 20, \"Price\": 45, \"mf_day\": \"10-aug-2021\", \"ex_date\": \"12-sep-2021\"}, \"102\": {\"Product\": \"Cake\", \"Quantity\": 30, \"Price\": 30, \"mf_day\": \"11-aug-2021\", \"ex_date\": \"13-sep-2021\"}, \"103\": {\"Product\": \"Pen\", \"Quantity\": 100, \"Price\": 10, \"mf_day\": \"12-aug-2021\", \"ex_date\": \"14-sep-2021\"}, \"104\": {\"Product\": \"Salt\", \"Quantity\": 50, \"Price\": 15, \"mf_day\": \"13-aug-2021\", \"ex_date\": \"15-sep-2021\"}, \"105\": {\"Product\": \"Sugar\", \"Quantity\": 10, \"Price\": 40, \"mf_day\": \"14-aug-2021\", \"ex_date\": \"16-sep-2021\"}, \"106\": {\"Product\": \"Biscuit\", \"Quantity\": 20, \"Price\": 30, \"mf_day\": \"15-aug-2021\", \"ex_date\": \"17-sep-2021\"}, \"107\": {\"Product\": \"Cashew\", \"Quantity\": 10, \"Price\": 100, \"mf_day\": \"16-aug-2021\", \"ex_date\": \"18-sep-2021\"}, \"108\": {\"Product\": \"Almonds\", \"Quantity\": 20, \"Price\": 60, \"mf_day\": \"17-aug-2021\", \"ex_date\": \"19-sep-2021\"}, \"109\": {\"Product\": \"Walnut\", \"Quantity\": 10, \"Price\": 500, \"mf_day\": \"18-aug-2021\", \"ex_date\": \"12-oct-2021\"}, \"110\": {\"Product\": \"Raisins\", \"Quantity\": 20, \"Price\": 45, \"mf_day\": \"19-aug-2021\", \"ex_date\": \"13-oct-2021\"}, \"111\": {\"Product\": \"Rice\", \"Quantity\": 10, \"Price\": 100, \"mf_day\": \"20-aug-2021\", \"ex_date\": \"14-oct-2021\"}, \"112\": {\"Product\": \"Oil\", \"Quantity\": 10, \"Price\": 200, \"mf_day\": \"01-aug-2021\", \"ex_date\": \"15-oct-2021\"}, \"113\": {\"Product\": \"Dahi\", \"Quantity\": 20, \"Price\": 25, \"mf_day\": \"02-aug-2021\", \"ex_date\": \"16-oct-2021\"}, \"114\": {\"Product\": \"Milk\", \"Quantity\": 20, \"Price\": 45, \"mf_day\": \"03-aug-2021\", \"ex_date\": \"17-oct-2021\"}, \"115\": {\"Product\": \"Butter\", \"Quantity\": 20, \"Price\": 45, \"mf_day\": \"04-aug-2021\", \"ex_date\": \"18-oct-2021\"}, \"116\": {\"Product\": \"Bread\", \"Quantity\": 30, \"Price\": 20, \"mf_day\": \"05-aug-2021\", \"ex_date\": \"19-oct-2021\"}, \"117\": {\"Product\": \"Cheese\", \"Quantity\": 20, \"Price\": 25, \"mf_day\": \"06-aug-2021\", \"ex_date\": \"02-oct-2021\"}, \"118\": {\"Product\": \"Soup\", \"Quantity\": 20, \"Price\": 45, \"mf_day\": \"07-aug-2021\", \"ex_date\": \"10-oct-2021\"}, \"119\": {\"Product\": \"Mango\", \"Quantity\": 20, \"Price\": 20, \"mf_day\": \"08-aug-2021\", \"ex_date\": \"11-oct-2021\"}, \"120\": {\"Product\": \"Atta\", \"Quantity\": 10, \"Price\": 300, \"mf_day\": \"09-aug-2021\", \"ex_date\": \"20-oct-2021\"}}'"
            ]
          },
          "metadata": {},
          "execution_count": 2
        }
      ]
    },
    {
      "cell_type": "markdown",
      "metadata": {
        "id": "6YPi78jp7zYy"
      },
      "source": [
        "**Adding new item into Inventory**"
      ]
    },
    {
      "cell_type": "code",
      "metadata": {
        "id": "b-ORChO5woqK"
      },
      "source": [
        "fd = open(\"records.json\",'w')\n",
        "fd.write(js)\n",
        "fd.close()"
      ],
      "execution_count": null,
      "outputs": []
    },
    {
      "cell_type": "code",
      "metadata": {
        "id": "Ud6wHry3wotW"
      },
      "source": [
        "fd = open(\"records.json\",'r')\n",
        "r = fd.read()\n",
        "fd.close()\n",
        "records = json.loads(r)\n"
      ],
      "execution_count": null,
      "outputs": []
    },
    {
      "cell_type": "code",
      "metadata": {
        "colab": {
          "base_uri": "https://localhost:8080/"
        },
        "id": "nocPrEvXy_ci",
        "outputId": "02109d46-f55b-4b86-c6b1-b4623909bd5a"
      },
      "source": [
        "\n",
        "Prod_id = str(input(\"Enter product id:\"))\n",
        "Product = str(input(\"Enter product:\"))\n",
        "Quantity = int(input(\"Enter Quantity:\"))\n",
        "Price = int(input(\"Enter price:\"))\n",
        "mf_day = str(input(\"Enter manufacture day:\"))\n",
        "ex_date = str(input(\"Enter expiry date:\"))\n",
        "records[Prod_id] = { \"Product\":Product, \"Quantity\":Quantity, \"Price\":Price, \"mf_day\":mf_day, \"ex_date\":ex_date }\n",
        "\n",
        "js = json.dumps(records)\n",
        "fd = open(\"records.json\",'w')\n",
        "fd.write(js)\n",
        "fd.close()\n"
      ],
      "execution_count": null,
      "outputs": [
        {
          "name": "stdout",
          "output_type": "stream",
          "text": [
            "Enter product id:130\n",
            "Enter product:Broom\n",
            "Enter Quantity:10\n",
            "Enter price:50\n",
            "Enter manufacture day:30-aug-2021\n",
            "Enter expiry date:30-oct-2021\n"
          ]
        }
      ]
    },
    {
      "cell_type": "code",
      "metadata": {
        "colab": {
          "base_uri": "https://localhost:8080/"
        },
        "id": "G-IRI00ZKHNW",
        "outputId": "29ae7748-1f23-402c-d961-14bb0b71ffb2"
      },
      "source": [
        "records"
      ],
      "execution_count": null,
      "outputs": [
        {
          "output_type": "execute_result",
          "data": {
            "text/plain": [
              "{'101': {'Price': 45,\n",
              "  'Product': 'Drink',\n",
              "  'Quantity': 20,\n",
              "  'ex_date': '12-sep-2021',\n",
              "  'mf_day': '10-aug-2021'},\n",
              " '102': {'Price': 30,\n",
              "  'Product': 'Cake',\n",
              "  'Quantity': 30,\n",
              "  'ex_date': '13-sep-2021',\n",
              "  'mf_day': '11-aug-2021'},\n",
              " '103': {'Price': 10,\n",
              "  'Product': 'Pen',\n",
              "  'Quantity': 100,\n",
              "  'ex_date': '14-sep-2021',\n",
              "  'mf_day': '12-aug-2021'},\n",
              " '104': {'Price': 15,\n",
              "  'Product': 'Salt',\n",
              "  'Quantity': 50,\n",
              "  'ex_date': '15-sep-2021',\n",
              "  'mf_day': '13-aug-2021'},\n",
              " '105': {'Price': 40,\n",
              "  'Product': 'Sugar',\n",
              "  'Quantity': 10,\n",
              "  'ex_date': '16-sep-2021',\n",
              "  'mf_day': '14-aug-2021'},\n",
              " '106': {'Price': 30,\n",
              "  'Product': 'Biscuit',\n",
              "  'Quantity': 20,\n",
              "  'ex_date': '17-sep-2021',\n",
              "  'mf_day': '15-aug-2021'},\n",
              " '107': {'Price': 100,\n",
              "  'Product': 'Cashew',\n",
              "  'Quantity': 10,\n",
              "  'ex_date': '18-sep-2021',\n",
              "  'mf_day': '16-aug-2021'},\n",
              " '108': {'Price': 60,\n",
              "  'Product': 'Almonds',\n",
              "  'Quantity': 20,\n",
              "  'ex_date': '19-sep-2021',\n",
              "  'mf_day': '17-aug-2021'},\n",
              " '109': {'Price': 500,\n",
              "  'Product': 'Walnut',\n",
              "  'Quantity': 10,\n",
              "  'ex_date': '12-oct-2021',\n",
              "  'mf_day': '18-aug-2021'},\n",
              " '110': {'Price': 45,\n",
              "  'Product': 'Raisins',\n",
              "  'Quantity': 20,\n",
              "  'ex_date': '13-oct-2021',\n",
              "  'mf_day': '19-aug-2021'},\n",
              " '111': {'Price': 100,\n",
              "  'Product': 'Rice',\n",
              "  'Quantity': 10,\n",
              "  'ex_date': '14-oct-2021',\n",
              "  'mf_day': '20-aug-2021'},\n",
              " '112': {'Price': 200,\n",
              "  'Product': 'Oil',\n",
              "  'Quantity': 10,\n",
              "  'ex_date': '15-oct-2021',\n",
              "  'mf_day': '01-aug-2021'},\n",
              " '113': {'Price': 25,\n",
              "  'Product': 'Dahi',\n",
              "  'Quantity': 20,\n",
              "  'ex_date': '16-oct-2021',\n",
              "  'mf_day': '02-aug-2021'},\n",
              " '114': {'Price': 45,\n",
              "  'Product': 'Milk',\n",
              "  'Quantity': 20,\n",
              "  'ex_date': '17-oct-2021',\n",
              "  'mf_day': '03-aug-2021'},\n",
              " '115': {'Price': 45,\n",
              "  'Product': 'Butter',\n",
              "  'Quantity': 20,\n",
              "  'ex_date': '18-oct-2021',\n",
              "  'mf_day': '04-aug-2021'},\n",
              " '116': {'Price': 20,\n",
              "  'Product': 'Bread',\n",
              "  'Quantity': 30,\n",
              "  'ex_date': '19-oct-2021',\n",
              "  'mf_day': '05-aug-2021'},\n",
              " '117': {'Price': 25,\n",
              "  'Product': 'Cheese',\n",
              "  'Quantity': 20,\n",
              "  'ex_date': '02-oct-2021',\n",
              "  'mf_day': '06-aug-2021'},\n",
              " '118': {'Price': 45,\n",
              "  'Product': 'Soup',\n",
              "  'Quantity': 20,\n",
              "  'ex_date': '10-oct-2021',\n",
              "  'mf_day': '07-aug-2021'},\n",
              " '119': {'Price': 20,\n",
              "  'Product': 'Mango',\n",
              "  'Quantity': 20,\n",
              "  'ex_date': '11-oct-2021',\n",
              "  'mf_day': '08-aug-2021'},\n",
              " '120': {'Price': 300,\n",
              "  'Product': 'Atta',\n",
              "  'Quantity': 10,\n",
              "  'ex_date': '20-oct-2021',\n",
              "  'mf_day': '09-aug-2021'},\n",
              " '121': {'Price': 20,\n",
              "  'Product': 'Maggi',\n",
              "  'Quantity': 20,\n",
              "  'ex_date': '21-oct-2021',\n",
              "  'mf_day': '21-aug-2021'},\n",
              " '122': {'Price': 50,\n",
              "  'Product': 'Ketchup',\n",
              "  'Quantity': 10,\n",
              "  'ex_date': '1-oct-2021',\n",
              "  'mf_day': '22-aug-2021'},\n",
              " '123': {'Price': 50,\n",
              "  'Product': 'Jam',\n",
              "  'Quantity': 10,\n",
              "  'ex_date': '2-oct-2021',\n",
              "  'mf_day': '22-aug-2021'},\n",
              " '124': {'Price': 10,\n",
              "  'Product': 'candy',\n",
              "  'Quantity': 50,\n",
              "  'ex_date': '4-oct-2021',\n",
              "  'mf_day': '24-aug-2021'},\n",
              " '125': {'Price': 50,\n",
              "  'Product': 'Peas',\n",
              "  'Quantity': 20,\n",
              "  'ex_date': '5-oct-2021',\n",
              "  'mf_day': '25-aug-2021'},\n",
              " '126': {'Price': 45,\n",
              "  'Product': 'Gndnut',\n",
              "  'Quantity': 20,\n",
              "  'ex_date': '06-oct-2021',\n",
              "  'mf_day': '26-aug-2021'},\n",
              " '127': {'Price': 50,\n",
              "  'Product': 'Namkeen',\n",
              "  'Quantity': 30,\n",
              "  'ex_date': '7-oct-2021',\n",
              "  'mf_day': '27-aug-2021'},\n",
              " '128': {'Price': 45,\n",
              "  'Product': 'Papad',\n",
              "  'Quantity': 20,\n",
              "  'ex_date': '08-oct-2021',\n",
              "  'mf_day': '28-aug-2021'},\n",
              " '129': {'Price': 30,\n",
              "  'Product': 'Soap',\n",
              "  'Quantity': 20,\n",
              "  'ex_date': '08-oct-2021',\n",
              "  'mf_day': '29-aug-2021'},\n",
              " '130': {'Price': 50,\n",
              "  'Product': 'Broom',\n",
              "  'Quantity': 10,\n",
              "  'ex_date': '30-oct-2021',\n",
              "  'mf_day': '30-aug-2021'}}"
            ]
          },
          "metadata": {},
          "execution_count": 53
        }
      ]
    }
  ]
}