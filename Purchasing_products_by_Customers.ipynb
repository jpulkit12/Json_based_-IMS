{
  "nbformat": 4,
  "nbformat_minor": 0,
  "metadata": {
    "colab": {
      "name": "Purchasing products by Customers.ipynb",
      "provenance": []
    },
    "kernelspec": {
      "name": "python3",
      "display_name": "Python 3"
    },
    "language_info": {
      "name": "python"
    }
  },
  "cells": [
    {
      "cell_type": "code",
      "metadata": {
        "id": "Td2aPtxp9Qi_",
        "colab": {
          "base_uri": "https://localhost:8080/"
        },
        "outputId": "c2478bfe-2965-45af-83c7-962229278dd7"
      },
      "source": [
        "import json\n",
        "fd = open(\"records.json\",'r')\n",
        "r = fd.read()\n",
        "fd.close()\n",
        "\n",
        "records = json.loads(r)\n",
        "records"
      ],
      "execution_count": null,
      "outputs": [
        {
          "output_type": "execute_result",
          "data": {
            "text/plain": [
              "{'101': {'Price': 45,\n",
              "  'Product': 'Drink',\n",
              "  'Quantity': 20,\n",
              "  'ex_date': '12-sep-2021',\n",
              "  'mf_day': '10-aug-2021'},\n",
              " '102': {'Price': 30,\n",
              "  'Product': 'Cake',\n",
              "  'Quantity': 30,\n",
              "  'ex_date': '13-sep-2021',\n",
              "  'mf_day': '11-aug-2021'},\n",
              " '103': {'Price': 10,\n",
              "  'Product': 'Pen',\n",
              "  'Quantity': 100,\n",
              "  'ex_date': '14-sep-2021',\n",
              "  'mf_day': '12-aug-2021'},\n",
              " '104': {'Price': 15,\n",
              "  'Product': 'Salt',\n",
              "  'Quantity': 50,\n",
              "  'ex_date': '15-sep-2021',\n",
              "  'mf_day': '13-aug-2021'},\n",
              " '105': {'Price': 40,\n",
              "  'Product': 'Sugar',\n",
              "  'Quantity': 10,\n",
              "  'ex_date': '16-sep-2021',\n",
              "  'mf_day': '14-aug-2021'},\n",
              " '106': {'Price': 30,\n",
              "  'Product': 'Biscuit',\n",
              "  'Quantity': 20,\n",
              "  'ex_date': '17-sep-2021',\n",
              "  'mf_day': '15-aug-2021'},\n",
              " '107': {'Price': 100,\n",
              "  'Product': 'Cashew',\n",
              "  'Quantity': 10,\n",
              "  'ex_date': '18-sep-2021',\n",
              "  'mf_day': '16-aug-2021'},\n",
              " '108': {'Price': 60,\n",
              "  'Product': 'Almonds',\n",
              "  'Quantity': 20,\n",
              "  'ex_date': '19-sep-2021',\n",
              "  'mf_day': '17-aug-2021'},\n",
              " '109': {'Price': 500,\n",
              "  'Product': 'Walnut',\n",
              "  'Quantity': 10,\n",
              "  'ex_date': '12-oct-2021',\n",
              "  'mf_day': '18-aug-2021'},\n",
              " '110': {'Price': 45,\n",
              "  'Product': 'Raisins',\n",
              "  'Quantity': 20,\n",
              "  'ex_date': '13-oct-2021',\n",
              "  'mf_day': '19-aug-2021'},\n",
              " '111': {'Price': 100,\n",
              "  'Product': 'Rice',\n",
              "  'Quantity': 10,\n",
              "  'ex_date': '14-oct-2021',\n",
              "  'mf_day': '20-aug-2021'},\n",
              " '112': {'Price': 200,\n",
              "  'Product': 'Oil',\n",
              "  'Quantity': 10,\n",
              "  'ex_date': '15-oct-2021',\n",
              "  'mf_day': '01-aug-2021'},\n",
              " '113': {'Price': 25,\n",
              "  'Product': 'Dahi',\n",
              "  'Quantity': 20,\n",
              "  'ex_date': '16-oct-2021',\n",
              "  'mf_day': '02-aug-2021'},\n",
              " '114': {'Price': 45,\n",
              "  'Product': 'Milk',\n",
              "  'Quantity': 20,\n",
              "  'ex_date': '17-oct-2021',\n",
              "  'mf_day': '03-aug-2021'},\n",
              " '115': {'Price': 45,\n",
              "  'Product': 'Butter',\n",
              "  'Quantity': 20,\n",
              "  'ex_date': '18-oct-2021',\n",
              "  'mf_day': '04-aug-2021'},\n",
              " '116': {'Price': 20,\n",
              "  'Product': 'Bread',\n",
              "  'Quantity': 30,\n",
              "  'ex_date': '19-oct-2021',\n",
              "  'mf_day': '05-aug-2021'},\n",
              " '117': {'Price': 25,\n",
              "  'Product': 'Cheese',\n",
              "  'Quantity': 20,\n",
              "  'ex_date': '02-oct-2021',\n",
              "  'mf_day': '06-aug-2021'},\n",
              " '118': {'Price': 45,\n",
              "  'Product': 'Soup',\n",
              "  'Quantity': 20,\n",
              "  'ex_date': '10-oct-2021',\n",
              "  'mf_day': '07-aug-2021'},\n",
              " '119': {'Price': 20,\n",
              "  'Product': 'Mango',\n",
              "  'Quantity': 20,\n",
              "  'ex_date': '11-oct-2021',\n",
              "  'mf_day': '08-aug-2021'},\n",
              " '120': {'Price': 300,\n",
              "  'Product': 'Atta',\n",
              "  'Quantity': 10,\n",
              "  'ex_date': '20-oct-2021',\n",
              "  'mf_day': '09-aug-2021'},\n",
              " '121': {'Price': 20,\n",
              "  'Product': 'Maggi',\n",
              "  'Quantity': 20,\n",
              "  'ex_date': '21-oct-2021',\n",
              "  'mf_day': '21-aug-2021'},\n",
              " '122': {'Price': 50,\n",
              "  'Product': 'Ketchup',\n",
              "  'Quantity': 10,\n",
              "  'ex_date': '1-oct-2021',\n",
              "  'mf_day': '22-aug-2021'},\n",
              " '123': {'Price': 50,\n",
              "  'Product': 'Jam',\n",
              "  'Quantity': 10,\n",
              "  'ex_date': '2-oct-2021',\n",
              "  'mf_day': '22-aug-2021'},\n",
              " '124': {'Price': 10,\n",
              "  'Product': 'candy',\n",
              "  'Quantity': 50,\n",
              "  'ex_date': '4-oct-2021',\n",
              "  'mf_day': '24-aug-2021'},\n",
              " '125': {'Price': 50,\n",
              "  'Product': 'Peas',\n",
              "  'Quantity': 20,\n",
              "  'ex_date': '5-oct-2021',\n",
              "  'mf_day': '25-aug-2021'},\n",
              " '126': {'Price': 45,\n",
              "  'Product': 'Gndnut',\n",
              "  'Quantity': 20,\n",
              "  'ex_date': '06-oct-2021',\n",
              "  'mf_day': '26-aug-2021'},\n",
              " '127': {'Price': 50,\n",
              "  'Product': 'Namkeen',\n",
              "  'Quantity': 30,\n",
              "  'ex_date': '7-oct-2021',\n",
              "  'mf_day': '27-aug-2021'},\n",
              " '128': {'Price': 45,\n",
              "  'Product': 'Papad',\n",
              "  'Quantity': 20,\n",
              "  'ex_date': '08-oct-2021',\n",
              "  'mf_day': '28-aug-2021'},\n",
              " '129': {'Price': 30,\n",
              "  'Product': 'Soap',\n",
              "  'Quantity': 20,\n",
              "  'ex_date': '08-oct-2021',\n",
              "  'mf_day': '29-aug-2021'},\n",
              " '130': {'Price': 50,\n",
              "  'Product': 'Broom',\n",
              "  'Quantity': 10,\n",
              "  'ex_date': '30-oct-2021',\n",
              "  'mf_day': '30-aug-2021'}}"
            ]
          },
          "metadata": {},
          "execution_count": 71
        }
      ]
    },
    {
      "cell_type": "code",
      "metadata": {
        "id": "UDyuJQftSXtm"
      },
      "source": [
        ""
      ],
      "execution_count": null,
      "outputs": []
    },
    {
      "cell_type": "markdown",
      "metadata": {
        "id": "4xWGuRCfF0ED"
      },
      "source": [
        "**Purchase by Customers**"
      ]
    },
    {
      "cell_type": "code",
      "metadata": {
        "colab": {
          "base_uri": "https://localhost:8080/"
        },
        "id": "j5xtWN-eAiGY",
        "outputId": "9a12beba-2579-4950-a669-eccb78101bff"
      },
      "source": [
        "import time\n",
        "ui_prod = str(input(\"Enter the product_Id: \"))\n",
        "ui_quant = int(input(\"Enter the Quantity: \"))\n",
        "print(\"************TOTAL BILL**************\")\n",
        "print(\"product: \", records[ui_prod]['Product'])\n",
        "print(\"quantity: \", records[ui_prod]['Quantity'])\n",
        "print(\"price: \", records[ui_prod]['Price'])\n",
        "print(\"manufacture day \", records[ui_prod]['mf_day'])\n",
        "print(\"expiry date: \", records[ui_prod]['ex_date'])\n",
        "print(\"*************************************************\")\n",
        "print(\"Billing Amount: \", records[ui_prod]['Price']*ui_quant)\n",
        "records[ui_prod]['Quantity'] = records[ui_prod]['Quantity'] - ui_quant\n",
        "Time = time.ctime() \n",
        "print(Time)\n",
        "print(\"***********THANK YOU VISIT AGAIN***********************\")"
      ],
      "execution_count": null,
      "outputs": [
        {
          "output_type": "stream",
          "name": "stdout",
          "text": [
            "Enter the product_Id: 103\n",
            "Enter the Quantity: 3\n",
            "************TOTAL BILL**************\n",
            "product:  Pen\n",
            "quantity:  100\n",
            "price:  10\n",
            "manufacture day  12-aug-2021\n",
            "expiry date:  14-sep-2021\n",
            "*************************************************\n",
            "Billing Amount:  30\n",
            "Mon Sep  6 08:37:46 2021\n",
            "***********THANK YOU VISIT AGAIN***********************\n"
          ]
        }
      ]
    },
    {
      "cell_type": "markdown",
      "metadata": {
        "id": "gdgT92QAHBaG"
      },
      "source": [
        "**Update Inventory after Purchase**"
      ]
    },
    {
      "cell_type": "code",
      "metadata": {
        "id": "ESmoyANQAiPr"
      },
      "source": [
        "js = json.dumps(records)\n",
        "\n",
        "fd = open(\"records.json\",'w')\n",
        "fd.write(js)\n",
        "fd.close()"
      ],
      "execution_count": null,
      "outputs": []
    },
    {
      "cell_type": "markdown",
      "metadata": {
        "id": "0hsjfeXGHr9w"
      },
      "source": [
        "**Sales JSON**"
      ]
    },
    {
      "cell_type": "code",
      "metadata": {
        "id": "aVDFNRbG9QmH"
      },
      "source": [
        "sales = {1: {'prod': ui_prod, 'Quantity':ui_quant, 'amount':records[ui_prod]['Price']*ui_quant},\n",
        "         2: {'prod': ui_prod, 'Quantity':ui_quant, 'amount':records[ui_prod]['Price']*ui_quant},\n",
        "         3: {'prod': ui_prod, 'Quantity':ui_quant, 'amount':records[ui_prod]['Price']*ui_quant},\n",
        "         4: {'prod': ui_prod, 'Quantity':ui_quant, 'amount':records[ui_prod]['Price']*ui_quant},\n",
        "         5: {'prod': ui_prod, 'Quantity':ui_quant, 'amount':records[ui_prod]['Price']*ui_quant},\n",
        "         6: {'prod': ui_prod, 'Quantity':ui_quant, 'amount':records[ui_prod]['Price']*ui_quant},\n",
        "         7: {'prod': ui_prod, 'Quantity':ui_quant, 'amount':records[ui_prod]['Price']*ui_quant},\n",
        "         8: {'prod': ui_prod, 'Quantity':ui_quant, 'amount':records[ui_prod]['Price']*ui_quant},\n",
        "         9: {'prod': ui_prod, 'Quantity':ui_quant, 'amount':records[ui_prod]['Price']*ui_quant},\n",
        "         10: {'prod': ui_prod, 'Quantity':ui_quant, 'amount':records[ui_prod]['Price']*ui_quant}}\n",
        "        \n",
        "        "
      ],
      "execution_count": null,
      "outputs": []
    },
    {
      "cell_type": "code",
      "metadata": {
        "id": "cn_UXXXeH3Td",
        "colab": {
          "base_uri": "https://localhost:8080/",
          "height": 86
        },
        "outputId": "4e0d9c5c-d663-4900-e62d-a09d0e06eabd"
      },
      "source": [
        " sale = json.dumps(sales)"
      ],
      "execution_count": null,
      "outputs": [
        {
          "output_type": "execute_result",
          "data": {
            "application/vnd.google.colaboratory.intrinsic+json": {
              "type": "string"
            },
            "text/plain": [
              "'{\"1\": {\"prod\": \"103\", \"Quantity\": 3, \"amount\": 30}, \"2\": {\"prod\": \"103\", \"Quantity\": 3, \"amount\": 30}, \"3\": {\"prod\": \"103\", \"Quantity\": 3, \"amount\": 30}, \"4\": {\"prod\": \"103\", \"Quantity\": 3, \"amount\": 30}, \"5\": {\"prod\": \"103\", \"Quantity\": 3, \"amount\": 30}, \"6\": {\"prod\": \"103\", \"Quantity\": 3, \"amount\": 30}, \"7\": {\"prod\": \"103\", \"Quantity\": 3, \"amount\": 30}, \"8\": {\"prod\": \"103\", \"Quantity\": 3, \"amount\": 30}, \"9\": {\"prod\": \"103\", \"Quantity\": 3, \"amount\": 30}, \"10\": {\"prod\": \"103\", \"Quantity\": 3, \"amount\": 30}}'"
            ]
          },
          "metadata": {},
          "execution_count": 105
        }
      ]
    },
    {
      "cell_type": "code",
      "metadata": {
        "id": "lgEtaojHP2R_"
      },
      "source": [
        "fd = open(\"sales.json\",'w')\n",
        "fd.write(sale)\n",
        "fd.close()"
      ],
      "execution_count": null,
      "outputs": []
    },
    {
      "cell_type": "code",
      "metadata": {
        "colab": {
          "base_uri": "https://localhost:8080/"
        },
        "id": "m9JDfn8B2hqm",
        "outputId": "3791b842-2dc2-4f9e-ace6-10bcde95b44e"
      },
      "source": [
        "sales"
      ],
      "execution_count": null,
      "outputs": [
        {
          "output_type": "execute_result",
          "data": {
            "text/plain": [
              "{1: {'Quantity': 3, 'amount': 30, 'prod': '103'},\n",
              " 2: {'Quantity': 3, 'amount': 30, 'prod': '103'},\n",
              " 3: {'Quantity': 3, 'amount': 30, 'prod': '103'},\n",
              " 4: {'Quantity': 3, 'amount': 30, 'prod': '103'},\n",
              " 5: {'Quantity': 3, 'amount': 30, 'prod': '103'},\n",
              " 6: {'Quantity': 3, 'amount': 30, 'prod': '103'},\n",
              " 7: {'Quantity': 3, 'amount': 30, 'prod': '103'},\n",
              " 8: {'Quantity': 3, 'amount': 30, 'prod': '103'},\n",
              " 9: {'Quantity': 3, 'amount': 30, 'prod': '103'},\n",
              " 10: {'Quantity': 3, 'amount': 30, 'prod': '103'}}"
            ]
          },
          "metadata": {},
          "execution_count": 107
        }
      ]
    }
  ]
}